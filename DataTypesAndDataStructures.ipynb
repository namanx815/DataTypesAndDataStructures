{
  "nbformat": 4,
  "nbformat_minor": 0,
  "metadata": {
    "colab": {
      "provenance": []
    },
    "kernelspec": {
      "name": "python3",
      "display_name": "Python 3"
    },
    "language_info": {
      "name": "python"
    }
  },
  "cells": [
    {
      "cell_type": "markdown",
      "source": [
        "1. What are data structures, and why are they important?\n",
        "\n",
        "   -Data structures are ways to organize and store data in a computer so it can be used efficiently. They’re essential for optimizing performance and managing data in tasks like searching, sorting, and updating.\n",
        "\n",
        "2. Explain the difference between mutable and immutable data types with examples.\n",
        "\n",
        "  -Mutable types can be changed after creation (e.g., list, dict,set.Immutable types cannot be changed (e.g., int, float, str, tuple).\n",
        "\n",
        "3. What are the main differences between lists and tuples in Python?\n",
        "\n",
        "  -Lists are mutable, tuples are immutable.\n",
        "   Lists have more built-in methods.\n",
        "   Tuples can be used as dictionary keys (because they are hashable), lists cannot.\n",
        "\n",
        "4. Describe how dictionaries store data.\n",
        "\n",
        "  -Dictionaries store data as key-value pairs using a hash table under the hood, allowing fast access to values by their keys.\n",
        "\n",
        "5. Why might you use a set instead of a list in Python?\n",
        "\n",
        "  -Use a set when:\n",
        "  You want unique elements only.\n",
        "  You need fast membership testing (in is faster in sets than lists).\n",
        "\n",
        "6. What is a string in Python, and how is it different from a list?\n",
        "\n",
        "  -A string is a sequence of characters and is immutable. A list is a sequence that can contain any data types and is mutable.\n",
        "\n",
        "7. How do tuples ensure data integrity in Python?\n",
        "\n",
        "  -Tuples are immutable, so their contents cannot be changed after creation, making them ideal for fixed data that shouldn’t change, ensuring data consistency.\n",
        "\n",
        "8. What is a hash table, and how does it relate to dictionaries in Python?\n",
        "\n",
        "  -A hash table maps keys to values using a hash function. Python’s dictionaries use hash tables to allow O(1) average-time complexity for lookups, inserts, and deletes.\n",
        "\n",
        "9. Can lists contain different data types in Python?\n",
        "\n",
        "  -Yes, Python lists are heterogeneous, meaning they can contain elements of different types:\n",
        "\n",
        "10. Explain why strings are immutable in Python.\n",
        "\n",
        "  -Strings are immutable to:\n",
        "  Enhance security and thread safety.\n",
        "  Allow hashing (e.g., as dictionary keys).\n",
        "  Optimize memory usage via interning.\n",
        "\n",
        "11. What advantages do dictionaries offer over lists for certain tasks?\n",
        "\n",
        "  -Faster data retrieval by key.\n",
        "  Better for representing structured data.\n",
        "  More semantically meaningful (key-value pairs).\n",
        "\n",
        "12. Describe a scenario where using a tuple would be preferable over a list.\n",
        "\n",
        "  -Use a tuple when:\n",
        "  You need an unchangeable sequence, like coordinates (x, y).\n",
        "  You want to use the data as a dictionary key.\n",
        "\n",
        "13. How do sets handle duplicate values in Python?\n",
        "\n",
        "  -Sets automatically remove duplicates. Adding an existing element has no effect.\n",
        "\n",
        "14. How does the “in” keyword work differently for lists and dictionaries?\n",
        "\n",
        "  -In lists, in checks values.\n",
        "  In dictionaries, in checks keys.\n",
        "\n",
        "15. Can you modify the elements of a tuple? Explain why or why not.\n",
        "\n",
        "  -No, tuples are immutable. Once created, their elements can’t be changed. This ensures data consistency and hashability.\n",
        "\n",
        "16. What is a nested dictionary, and give an example of its use case.\n",
        "\n",
        "  -A nested dictionary is a dictionary within another dictionary. Useful for representing hierarchical data, like a database record.\n",
        "\n",
        "17. Describe the time complexity of accessing elements in a dictionary.\n",
        "  \n",
        "  -Accessing a value by key in a dictionary is O(1) on average due to the use of hash tables.\n",
        "\n",
        "18. In what situations are lists preferred over dictionaries?\n",
        "\n",
        "  -When order matters.\n",
        "  When indexing by position is needed.\n",
        "  When storing homogeneous data.\n",
        "\n",
        "19. Why are dictionaries considered unordered, and how does that affect data retrieval?\n",
        "\n",
        "  -Before Python 3.7, dictionaries were unordered (no guaranteed key order). Since 3.7, they maintain insertion order, but logic relying on order may still be fragile.\n",
        "\n",
        "20. Explain the difference between a list and a dictionary in terms of data retrieval.\n",
        "\n",
        "  -List: Retrieval by index (position-based).\n",
        "  Dictionary: Retrieval by key (key-based), which is typically more intuitive for named data."
      ],
      "metadata": {
        "id": "AhVrRbYol-wS"
      }
    },
    {
      "cell_type": "code",
      "source": [
        "#Question 1\n",
        "name=\"Naman Surana\"\n",
        "print(name)"
      ],
      "metadata": {
        "colab": {
          "base_uri": "https://localhost:8080/"
        },
        "id": "jbRJElhtl73j",
        "outputId": "2d439d50-d48b-42c1-96f7-ae4de35119aa"
      },
      "execution_count": 1,
      "outputs": [
        {
          "output_type": "stream",
          "name": "stdout",
          "text": [
            "Naman Surana\n"
          ]
        }
      ]
    },
    {
      "cell_type": "code",
      "source": [
        "#Question 2\n",
        "str=\"Hello World\"\n",
        "len(str)"
      ],
      "metadata": {
        "colab": {
          "base_uri": "https://localhost:8080/"
        },
        "id": "_7_WKbSloj51",
        "outputId": "ca8c479d-1ac9-4662-8643-f03789b03319"
      },
      "execution_count": 2,
      "outputs": [
        {
          "output_type": "execute_result",
          "data": {
            "text/plain": [
              "11"
            ]
          },
          "metadata": {},
          "execution_count": 2
        }
      ]
    },
    {
      "cell_type": "code",
      "source": [
        "#Question 3\n",
        "str= \"Python Programming\"\n",
        "str[0:3]"
      ],
      "metadata": {
        "colab": {
          "base_uri": "https://localhost:8080/",
          "height": 35
        },
        "id": "vXw8iv0KokKr",
        "outputId": "7454512c-0254-446a-d284-c9d0163bdb60"
      },
      "execution_count": 4,
      "outputs": [
        {
          "output_type": "execute_result",
          "data": {
            "text/plain": [
              "'Pyt'"
            ],
            "application/vnd.google.colaboratory.intrinsic+json": {
              "type": "string"
            }
          },
          "metadata": {},
          "execution_count": 4
        }
      ]
    },
    {
      "cell_type": "code",
      "source": [
        "#Question 4\n",
        "str=\"hello\"\n",
        "str.upper()"
      ],
      "metadata": {
        "colab": {
          "base_uri": "https://localhost:8080/",
          "height": 35
        },
        "id": "ZDCWXu-QokWI",
        "outputId": "802d896e-52fa-47fb-a30b-01aeb4e20107"
      },
      "execution_count": 5,
      "outputs": [
        {
          "output_type": "execute_result",
          "data": {
            "text/plain": [
              "'HELLO'"
            ],
            "application/vnd.google.colaboratory.intrinsic+json": {
              "type": "string"
            }
          },
          "metadata": {},
          "execution_count": 5
        }
      ]
    },
    {
      "cell_type": "code",
      "source": [
        "#Question 5\n",
        "str=\"I love apple\"\n",
        "str.replace(\"apple\",\"orange\")"
      ],
      "metadata": {
        "colab": {
          "base_uri": "https://localhost:8080/",
          "height": 35
        },
        "id": "ZWUYiNSYpIKq",
        "outputId": "37f36388-e5ac-4d20-9d51-05023ecef5b9"
      },
      "execution_count": 6,
      "outputs": [
        {
          "output_type": "execute_result",
          "data": {
            "text/plain": [
              "'I love orange'"
            ],
            "application/vnd.google.colaboratory.intrinsic+json": {
              "type": "string"
            }
          },
          "metadata": {},
          "execution_count": 6
        }
      ]
    },
    {
      "cell_type": "code",
      "source": [
        "#Question 6\n",
        "lst=[1,2,3,4,5]\n",
        "for i in lst:\n",
        "    print(i)"
      ],
      "metadata": {
        "colab": {
          "base_uri": "https://localhost:8080/"
        },
        "id": "rpikAn-vpIbp",
        "outputId": "6603b603-566b-4367-94b2-861a50771197"
      },
      "execution_count": 8,
      "outputs": [
        {
          "output_type": "stream",
          "name": "stdout",
          "text": [
            "1\n",
            "2\n",
            "3\n",
            "4\n",
            "5\n"
          ]
        }
      ]
    },
    {
      "cell_type": "code",
      "source": [
        "#Question 7\n",
        "lst=[1,2,3,4]\n",
        "lst.append(10)\n",
        "lst"
      ],
      "metadata": {
        "colab": {
          "base_uri": "https://localhost:8080/"
        },
        "id": "Z_MmE-PYpIlV",
        "outputId": "6e1b2825-1c77-4470-ee2f-abf3e9ddfa64"
      },
      "execution_count": 9,
      "outputs": [
        {
          "output_type": "execute_result",
          "data": {
            "text/plain": [
              "[1, 2, 3, 4, 10]"
            ]
          },
          "metadata": {},
          "execution_count": 9
        }
      ]
    },
    {
      "cell_type": "code",
      "source": [
        "#Question 8\n",
        "lst=[1,2,3,4,5]\n",
        "lst.remove(3)\n",
        "lst"
      ],
      "metadata": {
        "colab": {
          "base_uri": "https://localhost:8080/"
        },
        "id": "KfpoviBepIvP",
        "outputId": "babcd534-3ed9-454a-b356-63610e3b4f05"
      },
      "execution_count": 10,
      "outputs": [
        {
          "output_type": "execute_result",
          "data": {
            "text/plain": [
              "[1, 2, 4, 5]"
            ]
          },
          "metadata": {},
          "execution_count": 10
        }
      ]
    },
    {
      "cell_type": "code",
      "source": [
        "#Question 9\n",
        "lst=['a','b','c','d']\n",
        "lst[1]"
      ],
      "metadata": {
        "colab": {
          "base_uri": "https://localhost:8080/",
          "height": 35
        },
        "id": "AhjQPlSip-SX",
        "outputId": "8f36ebc6-ec12-45ce-d5ab-1d1eafb3131c"
      },
      "execution_count": 11,
      "outputs": [
        {
          "output_type": "execute_result",
          "data": {
            "text/plain": [
              "'b'"
            ],
            "application/vnd.google.colaboratory.intrinsic+json": {
              "type": "string"
            }
          },
          "metadata": {},
          "execution_count": 11
        }
      ]
    },
    {
      "cell_type": "code",
      "source": [
        "#Question 10\n",
        "lst=[10,20,30,40,50]\n",
        "lst.reverse()\n",
        "lst\n"
      ],
      "metadata": {
        "colab": {
          "base_uri": "https://localhost:8080/"
        },
        "id": "3OK_yBsep-ol",
        "outputId": "9c1d773f-8861-4aaa-ba58-6def99df8dee"
      },
      "execution_count": 12,
      "outputs": [
        {
          "output_type": "execute_result",
          "data": {
            "text/plain": [
              "[50, 40, 30, 20, 10]"
            ]
          },
          "metadata": {},
          "execution_count": 12
        }
      ]
    },
    {
      "cell_type": "code",
      "source": [
        "#Question 11\n",
        "tpl=(100,200,300)\n",
        "tpl"
      ],
      "metadata": {
        "colab": {
          "base_uri": "https://localhost:8080/"
        },
        "id": "-qC1zNdRp-yx",
        "outputId": "374b9bad-fb63-4c52-f367-98b7a601a0ec"
      },
      "execution_count": 13,
      "outputs": [
        {
          "output_type": "execute_result",
          "data": {
            "text/plain": [
              "(100, 200, 300)"
            ]
          },
          "metadata": {},
          "execution_count": 13
        }
      ]
    },
    {
      "cell_type": "code",
      "source": [
        "#Question 12\n",
        "tpl=('red', 'green', 'blue', 'yellow')\n",
        "tpl[1:]"
      ],
      "metadata": {
        "colab": {
          "base_uri": "https://localhost:8080/"
        },
        "id": "h9GYq1QQqnm4",
        "outputId": "e1859ba4-f12f-4166-ec18-27fc9b65d0e1"
      },
      "execution_count": 15,
      "outputs": [
        {
          "output_type": "execute_result",
          "data": {
            "text/plain": [
              "('green', 'blue', 'yellow')"
            ]
          },
          "metadata": {},
          "execution_count": 15
        }
      ]
    },
    {
      "cell_type": "code",
      "source": [
        "#Question 13\n",
        "tpl=(10,20,5,15)\n",
        "minimum=min(tpl)\n",
        "minimum"
      ],
      "metadata": {
        "colab": {
          "base_uri": "https://localhost:8080/"
        },
        "id": "HRYEGW2CqnxY",
        "outputId": "f528467a-4dc2-40d0-d02b-d4565882ca35"
      },
      "execution_count": 19,
      "outputs": [
        {
          "output_type": "execute_result",
          "data": {
            "text/plain": [
              "5"
            ]
          },
          "metadata": {},
          "execution_count": 19
        }
      ]
    },
    {
      "cell_type": "code",
      "source": [
        "#Question 14\n",
        "animals = ('dog', 'cat', 'rabbit')\n",
        "index_of_cat = animals.index('cat')\n",
        "index_of_cat"
      ],
      "metadata": {
        "colab": {
          "base_uri": "https://localhost:8080/"
        },
        "id": "xzbxvIyqqo2g",
        "outputId": "f34b3e33-7ad9-4502-f678-7fd8ff049c79"
      },
      "execution_count": 21,
      "outputs": [
        {
          "output_type": "execute_result",
          "data": {
            "text/plain": [
              "1"
            ]
          },
          "metadata": {},
          "execution_count": 21
        }
      ]
    },
    {
      "cell_type": "code",
      "source": [
        "#Question 15\n",
        "fruits=(\"apple\",\"kiwi\",\"cherry\")\n",
        "\"kiwi\" in fruits"
      ],
      "metadata": {
        "colab": {
          "base_uri": "https://localhost:8080/"
        },
        "id": "eNG_xplkqpBu",
        "outputId": "8db0b0c5-1257-430f-e96f-0080aafdb079"
      },
      "execution_count": 23,
      "outputs": [
        {
          "output_type": "execute_result",
          "data": {
            "text/plain": [
              "True"
            ]
          },
          "metadata": {},
          "execution_count": 23
        }
      ]
    },
    {
      "cell_type": "code",
      "source": [
        "#Question 16\n",
        "sets={1,2,3}\n",
        "sets"
      ],
      "metadata": {
        "colab": {
          "base_uri": "https://localhost:8080/"
        },
        "id": "6PO11RHFqpLo",
        "outputId": "862c5f75-7977-4e39-ec4f-70f631819ba2"
      },
      "execution_count": 24,
      "outputs": [
        {
          "output_type": "execute_result",
          "data": {
            "text/plain": [
              "{1, 2, 3}"
            ]
          },
          "metadata": {},
          "execution_count": 24
        }
      ]
    },
    {
      "cell_type": "code",
      "source": [
        "#Question 17\n",
        "sets={1,2,3,4,5}\n",
        "sets.clear()\n",
        "sets"
      ],
      "metadata": {
        "colab": {
          "base_uri": "https://localhost:8080/"
        },
        "id": "_bhr52cDqpWL",
        "outputId": "a3703d95-ec43-43f2-f3e4-a4d37fd271d2"
      },
      "execution_count": 25,
      "outputs": [
        {
          "output_type": "execute_result",
          "data": {
            "text/plain": [
              "set()"
            ]
          },
          "metadata": {},
          "execution_count": 25
        }
      ]
    },
    {
      "cell_type": "code",
      "source": [
        "#Question 18\n",
        "sets={1,2,3,4}\n",
        "sets.remove(4)\n",
        "sets"
      ],
      "metadata": {
        "colab": {
          "base_uri": "https://localhost:8080/"
        },
        "id": "z1E-Bs7CskZE",
        "outputId": "85244c0c-f3aa-4298-8c54-b1c5e003c27f"
      },
      "execution_count": 28,
      "outputs": [
        {
          "output_type": "execute_result",
          "data": {
            "text/plain": [
              "{1, 2, 3}"
            ]
          },
          "metadata": {},
          "execution_count": 28
        }
      ]
    },
    {
      "cell_type": "code",
      "source": [
        "#Question 19\n",
        "set1 = {1, 2, 3}\n",
        "set2 = {3, 4, 5}\n",
        "\n",
        "union_set = set1.union(set2)\n",
        "print(\"Union of the sets:\", union_set)"
      ],
      "metadata": {
        "colab": {
          "base_uri": "https://localhost:8080/"
        },
        "id": "3F_0iZSEsqNq",
        "outputId": "9a8555a8-e8c5-4cb4-d0db-c209ad49022c"
      },
      "execution_count": 27,
      "outputs": [
        {
          "output_type": "stream",
          "name": "stdout",
          "text": [
            "Union of the sets: {1, 2, 3, 4, 5}\n"
          ]
        }
      ]
    },
    {
      "cell_type": "code",
      "source": [
        "#Question 20\n",
        "set1 = {1, 2, 3}\n",
        "set2 = {3, 4, 5}\n",
        "\n",
        "intersection_set = set1.intersection(set2)\n",
        "print(\"Intersection of the sets:\", intersection_set)\n"
      ],
      "metadata": {
        "colab": {
          "base_uri": "https://localhost:8080/"
        },
        "id": "NqzcaSnXsqXT",
        "outputId": "3713e8cd-d5d6-4b8f-f548-b523f98eca7a"
      },
      "execution_count": 29,
      "outputs": [
        {
          "output_type": "stream",
          "name": "stdout",
          "text": [
            "Intersection of the sets: {3}\n"
          ]
        }
      ]
    },
    {
      "cell_type": "code",
      "source": [
        "#Question 21\n",
        "detail={\"name\":\"Naman\",\"age\":20,\"city\":\"Kolkata\"}\n",
        "detail"
      ],
      "metadata": {
        "colab": {
          "base_uri": "https://localhost:8080/"
        },
        "id": "TomkQCMwsquM",
        "outputId": "957142d1-87fa-450f-994d-0f67d9143264"
      },
      "execution_count": 30,
      "outputs": [
        {
          "output_type": "execute_result",
          "data": {
            "text/plain": [
              "{'name': 'Naman', 'age': 20, 'city': 'Kolkata'}"
            ]
          },
          "metadata": {},
          "execution_count": 30
        }
      ]
    },
    {
      "cell_type": "code",
      "source": [
        "#Question 22\n",
        "detail={\"name\":\"Naman\",\"age\":20,\"city\":\"Kolkata\"}\n",
        "detail.update({\"country\":\"India\"})\n",
        "detail"
      ],
      "metadata": {
        "colab": {
          "base_uri": "https://localhost:8080/"
        },
        "id": "lUBiJKAjsq5H",
        "outputId": "e6194f7e-3a21-47f9-8dc5-092d4fd2dcea"
      },
      "execution_count": 31,
      "outputs": [
        {
          "output_type": "execute_result",
          "data": {
            "text/plain": [
              "{'name': 'Naman', 'age': 20, 'city': 'Kolkata', 'country': 'India'}"
            ]
          },
          "metadata": {},
          "execution_count": 31
        }
      ]
    },
    {
      "cell_type": "code",
      "source": [
        "#Question 23\n",
        "detail[\"name\"]"
      ],
      "metadata": {
        "colab": {
          "base_uri": "https://localhost:8080/",
          "height": 35
        },
        "id": "zhOSybTmsrDf",
        "outputId": "94626b87-cf88-43a7-dd78-7b487e71e2e6"
      },
      "execution_count": 33,
      "outputs": [
        {
          "output_type": "execute_result",
          "data": {
            "text/plain": [
              "'Naman'"
            ],
            "application/vnd.google.colaboratory.intrinsic+json": {
              "type": "string"
            }
          },
          "metadata": {},
          "execution_count": 33
        }
      ]
    },
    {
      "cell_type": "code",
      "source": [
        "#Question 24\n",
        "detail={'name': 'Bob', 'age': 22, 'city': 'New York'}\n",
        "detail.pop(\"age\")\n",
        "detail"
      ],
      "metadata": {
        "colab": {
          "base_uri": "https://localhost:8080/"
        },
        "id": "nEE6KNHUsrOT",
        "outputId": "8a8a3a5c-160a-41b3-e5fa-24fc09fa7dd0"
      },
      "execution_count": 34,
      "outputs": [
        {
          "output_type": "execute_result",
          "data": {
            "text/plain": [
              "{'name': 'Bob', 'city': 'New York'}"
            ]
          },
          "metadata": {},
          "execution_count": 34
        }
      ]
    },
    {
      "cell_type": "code",
      "source": [
        "#Question 25\n",
        "detail= {'name': 'Alice', 'city': 'Paris'}\n",
        "'city' in detail.keys()"
      ],
      "metadata": {
        "colab": {
          "base_uri": "https://localhost:8080/"
        },
        "id": "D8_a8l7ntx6M",
        "outputId": "503c27a7-52c5-4179-e4bf-31323f722b6a"
      },
      "execution_count": 35,
      "outputs": [
        {
          "output_type": "execute_result",
          "data": {
            "text/plain": [
              "True"
            ]
          },
          "metadata": {},
          "execution_count": 35
        }
      ]
    },
    {
      "cell_type": "code",
      "source": [
        "#Question 26\n",
        "lst=[1,2,3,4]\n",
        "tpl=(1,2,3,4)\n",
        "dct={1:1,2:4,3:9,4:16}\n",
        "print(lst)\n",
        "print(tpl)\n",
        "print(dct)"
      ],
      "metadata": {
        "colab": {
          "base_uri": "https://localhost:8080/"
        },
        "id": "N_IiwSF-tyFj",
        "outputId": "2a55c4eb-326d-4b70-d6e5-7ffd8c2506f0"
      },
      "execution_count": 36,
      "outputs": [
        {
          "output_type": "stream",
          "name": "stdout",
          "text": [
            "[1, 2, 3, 4]\n",
            "(1, 2, 3, 4)\n",
            "{1: 1, 2: 4, 3: 9, 4: 16}\n"
          ]
        }
      ]
    },
    {
      "cell_type": "code",
      "source": [
        "#Question 27\n",
        "import random\n",
        "lst=[]\n",
        "lst=[random.randint(1,100)for i in range(0,5)]\n",
        "print(lst)\n",
        "lst.sort()\n",
        "print(lst)"
      ],
      "metadata": {
        "colab": {
          "base_uri": "https://localhost:8080/"
        },
        "id": "6Sti3cNSucHL",
        "outputId": "4be27388-db6f-4ca2-9195-56722e78a9ee"
      },
      "execution_count": 41,
      "outputs": [
        {
          "output_type": "stream",
          "name": "stdout",
          "text": [
            "[62, 35, 56, 66, 39]\n",
            "[35, 39, 56, 62, 66]\n"
          ]
        }
      ]
    },
    {
      "cell_type": "code",
      "source": [
        "#Question 28\n",
        "names=[\"Naman\",\"Palak\",\"Shivam\",\"Mayank\"]\n",
        "names[3]"
      ],
      "metadata": {
        "colab": {
          "base_uri": "https://localhost:8080/",
          "height": 35
        },
        "id": "Om5Jjn5JucSJ",
        "outputId": "fd048707-b99d-4891-f65f-74850428c16f"
      },
      "execution_count": 42,
      "outputs": [
        {
          "output_type": "execute_result",
          "data": {
            "text/plain": [
              "'Mayank'"
            ],
            "application/vnd.google.colaboratory.intrinsic+json": {
              "type": "string"
            }
          },
          "metadata": {},
          "execution_count": 42
        }
      ]
    },
    {
      "cell_type": "code",
      "source": [
        "#Question 29\n",
        "dict1={2:4,3:9,4:16}\n",
        "dict2={5:25,6:36,7:49}\n",
        "dict1.update(dict2)\n",
        "dict1"
      ],
      "metadata": {
        "colab": {
          "base_uri": "https://localhost:8080/"
        },
        "id": "teLWqTaMvp9b",
        "outputId": "29ce75fa-fbc3-4346-cb5c-cb56bb4a8be3"
      },
      "execution_count": 46,
      "outputs": [
        {
          "output_type": "execute_result",
          "data": {
            "text/plain": [
              "{2: 4, 3: 9, 4: 16, 5: 25, 6: 36, 7: 49}"
            ]
          },
          "metadata": {},
          "execution_count": 46
        }
      ]
    },
    {
      "cell_type": "code",
      "source": [
        "#Question 30\n",
        "string_list = ['apple', 'banana', 'apple', 'cherry']\n",
        "string_set = set(string_list)\n",
        "\n",
        "print(\"Set of strings:\", string_set)\n"
      ],
      "metadata": {
        "colab": {
          "base_uri": "https://localhost:8080/"
        },
        "id": "ZA6_nElIvqKU",
        "outputId": "e784e129-f6c9-4221-917c-b16489cddf6a"
      },
      "execution_count": 47,
      "outputs": [
        {
          "output_type": "stream",
          "name": "stdout",
          "text": [
            "Set of strings: {'cherry', 'apple', 'banana'}\n"
          ]
        }
      ]
    }
  ]
}